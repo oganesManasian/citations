{
 "cells": [
  {
   "cell_type": "code",
   "execution_count": 1,
   "metadata": {},
   "outputs": [],
   "source": [
    "# from dotenv import load_dotenv\n",
    "\n",
    "\n",
    "# load_dotenv()"
   ]
  },
  {
   "cell_type": "code",
   "execution_count": null,
   "metadata": {},
   "outputs": [],
   "source": []
  },
  {
   "cell_type": "code",
   "execution_count": 2,
   "metadata": {},
   "outputs": [],
   "source": [
    "import json\n",
    "\n",
    "source_json_path = \"/Users/oganes/citations/RAGTruth-main/dataset/source_info.jsonl\"\n",
    "\n",
    "source_info_data = []\n",
    "with open(source_json_path, 'r') as json_file:\n",
    "    for json_str in json_file:\n",
    "        cur_data = json.loads(json_str)\n",
    "        source_info_data.append(cur_data)\n",
    "\n",
    "\n",
    "response_json_path = \"/Users/oganes/citations/RAGTruth-main/dataset/response.jsonl\"\n",
    "\n",
    "response_data = []\n",
    "with open(response_json_path, 'r') as json_file:\n",
    "    for json_str in json_file:\n",
    "        cur_data = json.loads(json_str)\n",
    "        response_data.append(cur_data)"
   ]
  },
  {
   "cell_type": "code",
   "execution_count": 3,
   "metadata": {},
   "outputs": [
    {
     "data": {
      "text/plain": [
       "dict_keys(['source_id', 'task_type', 'source', 'source_info', 'prompt'])"
      ]
     },
     "execution_count": 3,
     "metadata": {},
     "output_type": "execute_result"
    }
   ],
   "source": [
    "source_info_data[0].keys()"
   ]
  },
  {
   "cell_type": "code",
   "execution_count": 4,
   "metadata": {},
   "outputs": [
    {
     "data": {
      "text/plain": [
       "989"
      ]
     },
     "execution_count": 4,
     "metadata": {},
     "output_type": "execute_result"
    }
   ],
   "source": [
    "marco_samples = [sample for sample in source_info_data if sample['source'] == 'MARCO']\n",
    "len(marco_samples)"
   ]
  },
  {
   "cell_type": "code",
   "execution_count": 5,
   "metadata": {},
   "outputs": [
    {
     "data": {
      "text/plain": [
       "{'source_id': '14293',\n",
       " 'task_type': 'QA',\n",
       " 'source': 'MARCO',\n",
       " 'source_info': {'question': 'tips how to conserve water',\n",
       "  'passages': 'passage 1:1 Take shorter showers. 2  Replace you showerhead with an ultra-low-flow version. 3  Some units are available that allow you to cut off the flow without adjusting the water temperature knobs. 4  Use the minimum amount of water needed for a bath by closing the drain first and filling the tub only 1/3 full.\\n\\npassage 2:Here are 20 water-saving tips to get you going…. 1. Shower Bucket. Instead of letting the water pour down the drain, stick a bucket under the faucet while you wait for your shower water to heat up. You can use the water for flushing the toilet or watering your plants. 2. Turn off the tap while brushing your teeth. Water comes out of the average faucet at 2.5 gallons per minute. Don’t let all that water go down the drain while you brush! Turn off the faucet after you wet your brush, and leave it off until it’s time to rinse. 3. Turn off the tap while washing your hands.\\n\\npassage 3:Water lawns in the early morning or later evening in 20 minute intervals. Use a broom instead of your hose to remove debris from your driveway or sidewalk. Bathe your pets outdoors in areas that need water. Install a shut-off nozzle on your water hose; a garden hose left running can waste up to 20 litres per minute. Direct downspouts towards shrubs and trees in your garden.\\n\\n'},\n",
       " 'prompt': 'Briefly answer the following question:\\ntips how to conserve water\\nBear in mind that your response should be strictly based on the following three passages:\\npassage 1:1 Take shorter showers. 2  Replace you showerhead with an ultra-low-flow version. 3  Some units are available that allow you to cut off the flow without adjusting the water temperature knobs. 4  Use the minimum amount of water needed for a bath by closing the drain first and filling the tub only 1/3 full.\\n\\npassage 2:Here are 20 water-saving tips to get you going…. 1. Shower Bucket. Instead of letting the water pour down the drain, stick a bucket under the faucet while you wait for your shower water to heat up. You can use the water for flushing the toilet or watering your plants. 2. Turn off the tap while brushing your teeth. Water comes out of the average faucet at 2.5 gallons per minute. Don’t let all that water go down the drain while you brush! Turn off the faucet after you wet your brush, and leave it off until it’s time to rinse. 3. Turn off the tap while washing your hands.\\n\\npassage 3:Water lawns in the early morning or later evening in 20 minute intervals. Use a broom instead of your hose to remove debris from your driveway or sidewalk. Bathe your pets outdoors in areas that need water. Install a shut-off nozzle on your water hose; a garden hose left running can waste up to 20 litres per minute. Direct downspouts towards shrubs and trees in your garden.\\n\\nIn case the passages do not contain the necessary information to answer the question, please reply with: \"Unable to answer based on given passages.\"\\noutput:'}"
      ]
     },
     "execution_count": 5,
     "metadata": {},
     "output_type": "execute_result"
    }
   ],
   "source": [
    "context_sample = marco_samples[1]\n",
    "context_sample"
   ]
  },
  {
   "cell_type": "code",
   "execution_count": 6,
   "metadata": {},
   "outputs": [
    {
     "name": "stdout",
     "output_type": "stream",
     "text": [
      "Briefly answer the following question:\n",
      "tips how to conserve water\n",
      "Bear in mind that your response should be strictly based on the following three passages:\n",
      "passage 1:1 Take shorter showers. 2  Replace you showerhead with an ultra-low-flow version. 3  Some units are available that allow you to cut off the flow without adjusting the water temperature knobs. 4  Use the minimum amount of water needed for a bath by closing the drain first and filling the tub only 1/3 full.\n",
      "\n",
      "passage 2:Here are 20 water-saving tips to get you going…. 1. Shower Bucket. Instead of letting the water pour down the drain, stick a bucket under the faucet while you wait for your shower water to heat up. You can use the water for flushing the toilet or watering your plants. 2. Turn off the tap while brushing your teeth. Water comes out of the average faucet at 2.5 gallons per minute. Don’t let all that water go down the drain while you brush! Turn off the faucet after you wet your brush, and leave it off until it’s time to rinse. 3. Turn off the tap while washing your hands.\n",
      "\n",
      "passage 3:Water lawns in the early morning or later evening in 20 minute intervals. Use a broom instead of your hose to remove debris from your driveway or sidewalk. Bathe your pets outdoors in areas that need water. Install a shut-off nozzle on your water hose; a garden hose left running can waste up to 20 litres per minute. Direct downspouts towards shrubs and trees in your garden.\n",
      "\n",
      "In case the passages do not contain the necessary information to answer the question, please reply with: \"Unable to answer based on given passages.\"\n",
      "output:\n"
     ]
    },
    {
     "data": {
      "text/plain": [
       "(1605, None)"
      ]
     },
     "execution_count": 6,
     "metadata": {},
     "output_type": "execute_result"
    }
   ],
   "source": [
    "len(context_sample[\"prompt\"]), print(context_sample[\"prompt\"])"
   ]
  },
  {
   "cell_type": "code",
   "execution_count": 7,
   "metadata": {},
   "outputs": [],
   "source": [
    "prompts = [sample[\"prompt\"] for sample in marco_samples]"
   ]
  },
  {
   "cell_type": "code",
   "execution_count": 8,
   "metadata": {},
   "outputs": [
    {
     "data": {
      "image/png": "[encoded data removed]",
      "text/plain": [
       "<Figure size 640x480 with 1 Axes>"
      ]
     },
     "metadata": {},
     "output_type": "display_data"
    }
   ],
   "source": [
    "from matplotlib import pyplot as plt\n",
    "\n",
    "plt.hist([len(prompt) for prompt in prompts], bins=100);"
   ]
  },
  {
   "cell_type": "code",
   "execution_count": null,
   "metadata": {},
   "outputs": [],
   "source": []
  },
  {
   "cell_type": "code",
   "execution_count": null,
   "metadata": {},
   "outputs": [],
   "source": []
  },
  {
   "cell_type": "code",
   "execution_count": 9,
   "metadata": {},
   "outputs": [
    {
     "data": {
      "text/plain": [
       "dict_keys(['id', 'source_id', 'model', 'temperature', 'labels', 'split', 'quality', 'response'])"
      ]
     },
     "execution_count": 9,
     "metadata": {},
     "output_type": "execute_result"
    }
   ],
   "source": [
    "response_data[0].keys()"
   ]
  },
  {
   "cell_type": "code",
   "execution_count": 10,
   "metadata": {},
   "outputs": [
    {
     "name": "stdout",
     "output_type": "stream",
     "text": [
      "Here are some tips for conserving water based on the provided passages:\n",
      "\n",
      "1. Take shorter showers using an ultra-low-flow showerhead. (Passage 1)\n",
      "2. Use the minimum amount of water needed for a bath by filling the tub only 1/3 full and closing the drain before running water. (Passage 1)\n",
      "3. Turn off the tap while brushing your teeth to save 2.5 gallons per minute. (Passage 2)\n",
      "4. Turn off the tap while washing your hands to save water. (Passage 2)\n",
      "5. Water lawns in the early morning or evening using a broom instead of a hose to reduce water waste. (Passage 3)\n",
      "6. Install a shut-off nozzle on your water hose to prevent unnecessary water runoff. (Passage 3)\n",
      "7. Direct downspouts towards shrubs and trees in your garden to make the most of rainwater. (Passage 3)\n",
      "\n",
      "Unable to answer based on given passages. The passages do not provide specific information on how to conserve water in the kitchen or indoor spaces.\n"
     ]
    }
   ],
   "source": [
    "responses = [sample for sample in response_data if sample['source_id'] == context_sample['source_id'] and sample[\"model\"] == \"llama-2-7b-chat\"]\n",
    "print(responses[0][\"response\"])"
   ]
  },
  {
   "cell_type": "code",
   "execution_count": null,
   "metadata": {},
   "outputs": [],
   "source": []
  },
  {
   "cell_type": "markdown",
   "metadata": {},
   "source": [
    "# Prompt segmentation"
   ]
  },
  {
   "cell_type": "code",
   "execution_count": 15,
   "metadata": {},
   "outputs": [
    {
     "name": "stdout",
     "output_type": "stream",
     "text": [
      "Collecting en-core-web-sm==3.8.0\n",
      "  Downloading https://github.com/explosion/spacy-models/releases/download/en_core_web_sm-3.8.0/en_core_web_sm-3.8.0-py3-none-any.whl (12.8 MB)\n",
      "\u001b[2K     \u001b[90m━━━━━━━━━━━━━━━━━━━━━━━━━━━━━━━━━━━━━━━━\u001b[0m \u001b[32m12.8/12.8 MB\u001b[0m \u001b[31m56.2 MB/s\u001b[0m eta \u001b[36m0:00:00\u001b[0m \u001b[36m0:00:01\u001b[0m\n",
      "\u001b[?25h\u001b[38;5;2m✔ Download and installation successful\u001b[0m\n",
      "You can now load the package via spacy.load('en_core_web_sm')\n"
     ]
    }
   ],
   "source": [
    "!python -m spacy download en_core_web_sm \n"
   ]
  },
  {
   "cell_type": "code",
   "execution_count": null,
   "metadata": {},
   "outputs": [
    {
     "name": "stdout",
     "output_type": "stream",
     "text": [
      "[Briefly answer the following question:\n",
      "][butcher shop phone number\n",
      "][Bear in mind that your response should be strictly based on the following three passages:\n",
      "][passage 1:Butcher Shop - Hayward 826 B Street,] [Hayward CA 94541 Phone Number: (510) 889-8690\n",
      "\n",
      "][passage 2:Butcher Shop - Lakefield 212 Main Street,] [Lakefield MN 56150 Phone Number: (507) 662-6281\n",
      "\n",
      "][passage 3:Some More Phone Numbers Related To The Butcher Shop The Local Butcher Shop phone number : (510) 845-6328 Boones Butcher Shop phone number : (502) 348-3668 Ye Ole Butcher Shop phone number : (972) 423-1848 J Ms Butcher Shop phone number : (865) 483-9228\n",
      "\n",
      "][In case the passages do not contain the necessary information to answer the question,] [please reply with: \"Unable to answer based on given passages.][\"\n",
      "][output:]\n",
      "\n",
      "\n",
      "\n",
      "\n",
      "[Briefly answer the following question:\n",
      "][tips how to conserve water\n",
      "][Bear in mind that your response should be strictly based on the following three passages:\n",
      "][passage 1:1 Take shorter showers.] [2  Replace you showerhead with an ultra-low-flow version.] [3  ][Some units are available that allow you to cut off the flow without adjusting the water temperature knobs.] [4  Use the minimum amount of water needed for a bath by closing the drain first and filling the tub only 1/3 full.\n",
      "\n",
      "][passage 2:Here are 20 water-saving tips to get you going….] [1. Shower Bucket.] [Instead of letting the water pour down the drain,] [stick a bucket under the faucet while you wait for your shower water to heat up.] [You can use the water for flushing the toilet or watering your plants.] [2. Turn off the tap while brushing your teeth.] [Water comes out of the average faucet at 2.5 gallons per minute.] [Don’t let all that water go down the drain while you brush!] [Turn off the faucet after you wet your brush,] [and leave it off until it’s time to rinse.] [3. Turn off the tap while washing your hands.\n",
      "\n",
      "][passage 3:Water lawns in the early morning or later evening in 20 minute intervals.] [Use a broom instead of your hose to remove debris from your driveway or sidewalk.] [Bathe your pets outdoors in areas that need water.] [Install a shut-off nozzle on your water hose; a garden hose left running can waste up to 20 litres per minute.] [Direct downspouts towards shrubs and trees in your garden.\n",
      "\n",
      "][In case the passages do not contain the necessary information to answer the question,] [please reply with: \"Unable to answer based on given passages.][\"\n",
      "][output:]\n",
      "\n",
      "\n",
      "\n",
      "\n",
      "[Briefly answer the following question:\n",
      "][safely clean your computer screen\n",
      "][Bear in mind that your response should be strictly based on the following three passages:\n",
      "][passage 1:Remember,] [the less you touch your screen the better.] [Lightly wipe the screen with a dry and clean microfiber cloth.] [Microfiber is a miracle of modern technology; put it to good use.] [No paper towels,] [no kitchen towels,] [no household rags; only microfiber should touch your screen.ow to Safely Clean Your Screen.] [Now that we’ve made you terrified of Windex and rags (as,] [on behalf of your beautiful widescreen monitor,] [you should be),] [it’s time to get down to the business of properly cleaning your screens.\n",
      "\n",
      "][passage 2:Instructions.] [Add 1 part isopropyl alcohol and 1 part distilled water to an empty spray bottle.] [Close the bottle and shake it to combine the ingredients.] [Turn off the laptop.] [It&#039;s easier to see the dust and smudges when the screen is dark.] [Spray a lint-free cloth with the homemade cleaning solution or LCD cleaner.][Wipe the laptop screen thoroughly with the cloth to remove any dust or fingerprints.] [Clean in one direction to prevent streaks.lose the bottle and shake it to combine the ingredients.] [Turn off the laptop.] [It&#039;s easier to see the dust and smudges when the screen is dark.] [Spray a lint-free cloth with the homemade cleaning solution or LCD cleaner.\n",
      "\n",
      "][passage 3:1 The microfiber clothes are washable,] [soft and safe to use on your screens.] [2  To clean the edges of your LCD screen use a clean cotton ball or swab.] [3  ALWAYS clean your screen powered off!] [( 4 I know I said this above,] [but it is important enough to reiterate.).] [DO NOT touch your LCD screen,] [because it will shorten the lifespan of your screen.] [2  NEVER use a window or abrasive cleaner on your TV screen as it can cause the screen to yellow and also damage it.] [3  ][If a spot does not come off,] [do NOT rub harder,] [because you can kill some of your pixels and ruin your screen.\n",
      "\n",
      "][In case the passages do not contain the necessary information to answer the question,] [please reply with: \"Unable to answer based on given passages.][\"\n",
      "][output:]\n",
      "\n",
      "\n",
      "\n",
      "\n",
      "[Briefly answer the following question:\n",
      "][what is the difference between single cream and double cream\n",
      "][Bear in mind that your response should be strictly based on the following three passages:\n",
      "][passage 1:In Britain,] [single cream refers to a milk product that has between 10 percent and 12 percent butterfat.][This relatively low level of butterfat creates a thin liquid similar to the U.S. product called half and half.] [In contrast,] [double cream in Britain refers to a cream product containing 48 percent butterfat.n Britain,] [single cream refers to a milk product that has between 10 percent and 12 percent butterfat.\n",
      "\n",
      "][passage 2:Whipping.] [Because of its high milk content,] [single cream is too thin to be whipped into soft or hard peaks.] [Double cream,] [however,] [is an excellent cream for whipping.] [It whips quickly into soft and then hard peaks.] [Some cooks find that double cream is so thick it strains their mixer.n Britain,] [single cream refers to a milk product that has between 10 percent and 12 percent butterfat.\n",
      "\n",
      "][passage 3:Report Abuse.] [Double cream has a higher fat content than single.] [You can use it in cooking but you will generally need rather less to get the same results.] [Because of the higher fat content it will bind with the flour ion the pasta to produce a thicker sauce.][E: In cooking,] [what is the difference between double & single cream?] [For making my home-made macaroni m cheese-what should I use to coat the pasta-double cream or single cream?] [I used double before and it tasted really good,] [but dont know the difference between the two for cooking purposes.\n",
      "\n",
      "][In case the passages do not contain the necessary information to answer the question,] [please reply with: \"Unable to answer based on given passages.][\"\n",
      "][output:]\n",
      "\n",
      "\n",
      "\n",
      "\n",
      "[Briefly answer the following question:\n",
      "][how to soak off gel polish\n",
      "][Bear in mind that your response should be strictly based on the following three passages:\n",
      "][passage 1:Gelish Soak Off Gel Nail Polish is a unique formula that lasts up to 21 days on natural nails and the application out performs other Soak Off Gel Polishes.][Excellent coverage with quick and accurate cure times,] [and a easy removal process.] [Special designed color pigments create the ultimate in Soak Off Gel Polish.elish] [Soak Off Gel Nail Polish is a unique formula that lasts up to 21 days on natural nails and the application out performs other Soak Off Gel Polishes.\n",
      "\n",
      "][passage 2:1] [This helps break through the top coat to allow the remover to penetrate the layers of polish below.] [2  Soak a cotton ball with the acetone remover and place it on one of the fingernails.] [3  Wrap the finger with the cotton ball in foil,] [and squeeze it nice and tight so that the cotton ball stays in contact with the nail.] [Remove the foil from one finger.] [( 2 You should be able to visibly see the polish coming loose from the edges of the nail.)] [Push the polish off of the nail using your orange stick or cuticle pusher.] [3  Don’t use anything too sharp or you could remove the top layer of your nail.] [4  Repeat this step for each nail.\n",
      "\n",
      "][passage 3:Gelish.] [Gelish® Soak-Off Gel Polish applies like polish and cures in a LED lamp in 30 seconds,] [or 2 minutes in traditional UV lamps.elish stays on nails for up to 3 weeks with no chipping or peeling,] [and soaks completely off in only 10 - 15 minutes.] [Gelish® Soak-Off Gel-Polish Application & Removal Gelish® Gel-Polish Application & Removal.\n",
      "\n",
      "][In case the passages do not contain the necessary information to answer the question,] [please reply with: \"Unable to answer based on given passages.][\"\n",
      "][output:]\n",
      "\n",
      "\n",
      "\n",
      "\n",
      "[Briefly answer the following question:\n",
      "][in word,] [how do i remove a row\n",
      "][Bear in mind that your response should be strictly based on the following three passages:\n",
      "][passage 1:Add or delete a table column or row.] [To add or delete columns and rows,] [right-click a row or column,] [and then click the command you want.] [You can also quickly add a row by clicking in the lower-right cell of the table and pressing the Tab key.][Here are more detailed instructions.dd a column to the left or right.] [Right-click in a cell to the left or to the right of where you want to add a column.] [On the shortcut menu,] [point to Insert,] [and then click Insert Columns to the Left or Insert Columns to the Right.\n",
      "\n",
      "][passage 2:Delete a row from a table in Microsoft Word 2007.] [Just as you can insert new rows and columns in pre-existing tables in Word 2007,] [you can delete rows and columns,] [whether they contain any data or not.] [This tutorial explains how to delete a row from a table in your Microsoft Word documents.][You can either delete the content of a row,] [but keep the structural row inside the table,] [or delete the row and its content: this tutorial will show you how to both delete the content of rows,] [and] [how to delete rows themselves.elete a row from a table in Word 2007.] [If you want to remove both the row and its content,] [you can use the keyboard shortcut described above: select the row,] [and hit.] [.\n",
      "\n",
      "][passage 3:Delete a row from a table in Word 2007.] [If you want to remove both the row and its content,] [you can use the keyboard shortcut described above: select the row,] [and hit.] [.But we will also show you another way to remove a row from a table,] [easier to remember: Right-click in a cell inside the row you would like to delete.][From the context menu that opens,] [choose Delete Cells,] [and the Delete Cells dialog box will open.] [By default,] [Shift cells left is selected,] [so you first need to choose the  Delete entire row  option-then hit.] [(or click OK).elete a row from a table in Word 2007.] [If you want to remove both the row and its content,] [you can use the keyboard shortcut described above: select the row,] [and hit.] [.\n",
      "\n",
      "][In case the passages do not contain the necessary information to answer the question,] [please reply with: \"Unable to answer based on given passages.][\"\n",
      "][output:]\n",
      "\n",
      "\n",
      "\n",
      "\n",
      "[Briefly answer the following question:\n",
      "][food rich in potassium magnesium and calcium\n",
      "][Bear in mind that your response should be strictly based on the following three passages:\n",
      "][passage 1:Foods Containing Potassium.] [Fruits rich in potassium include bananas,] [apricots,] [prunes,] [dates,] [cantaloupe,] [watermelon and strawberries.] [Foods such as salmon,] [beans,] [turkey and fish also contain potassium as do peas,] [greens,] [spinach and tomatoes.][If you are consuming three of these items a day,] [you are probably getting enough potassium.o do dark leafy vegetables.] [Kale,] [turnip greens,] [broccoli,] [brussel sprouts and cabbage are rich sources of calcium.] [Canned fish (with bones),] [such as salmon,] [sardines and mackerel are also good choices.] [Fruits rich in potassium include bananas,] [apricots,] [prunes,] [dates,] [cantaloupe,] [watermelon and strawberries.\n",
      "\n",
      "][passage 2:Foods Rich In Calcium.] [Foods such as milk,] [cheese] [and] [yogurt contain calcium.] [So do dark leafy vegetables.] [Kale,] [turnip greens,] [broccoli,] [brussel sprouts and cabbage are rich sources of calcium.] [Canned fish (with bones),] [such as salmon,] [sardines and mackerel are also good choices.][Fruits rich in potassium include bananas,] [apricots,] [prunes,] [dates,] [cantaloupe,] [watermelon and strawberries.][Foods such as salmon,] [beans,] [turkey and fish also contain potassium as do peas,] [greens,] [spinach and tomatoes.] [If you are consuming three of these items a day,] [you are probably getting enough potassium.o do dark leafy vegetables.] [Kale,] [turnip greens,] [broccoli,] [brussel sprouts and cabbage are rich sources of calcium.] [Canned fish (with bones),] [such as salmon,] [sardines and mackerel are also good choices.] [Fruits rich in potassium include bananas,] [apricots,] [prunes,] [dates,] [cantaloupe,] [watermelon and strawberries.\n",
      "\n",
      "][passage 3:Food.] [Magnesium is widely distributed in plant and animal foods and in beverages.] [Green leafy vegetables,] [such as spinach,] [legumes,] [nuts,] [seeds,] [and] [whole grains,] [are good sources [ 1,] [3 ].] [In general,] [foods containing dietary fiber provide magnesium.][Magnesium is also added to some breakfast cereals and other fortified foods.][Some types of food processing,] [such as refining grains in ways that remove the nutrient-rich germ and bran,] [lower magnesium content substantially [ 1 ].] [Selected food sources of magnesium are listed in Table 2.n general,] [foods containing dietary fiber provide magnesium.] [Magnesium is also added to some breakfast cereals and other fortified foods.] [Some types of food processing,] [such as refining grains in ways that remove the nutrient-rich germ and bran,] [lower magnesium content substantially [ 1 ].\n",
      "\n",
      "][In case the passages do not contain the necessary information to answer the question,] [please reply with: \"Unable to answer based on given passages.][\"\n",
      "][output:]\n",
      "\n",
      "\n",
      "\n",
      "\n",
      "[Briefly answer the following question:\n",
      "][pros and cons entering workforce or going to graduate school\n",
      "][Bear in mind that your response should be strictly based on the following three passages:\n",
      "][passage 1:A lot of college grads opt to delay their entry into the workforce however,] [and instead enroll in graduate school.] [Grad school isn't the right choice for everybody,] [but for many it's a good option to consider when deciding whether to further your education or enter the workforce.n the other hand,] [the graduates who are able to find work end up making a lot more than their undergraduate counterparts; the median annual salary plus bonus for a person fresh out of grad school with an MBA is $105,000.] [Time.] [Graduate school takes a lot of time,] [time that many people might not have.\n",
      "\n",
      "][passage 2:Some ambitious students will choose to work and pursue grad school at the same time.] [This may sound like a lot to handle,] [but students who take this approach often reap double the rewards.] [Rather than taking on a paid position,] [some students elect to volunteer part-time,] [working around their study schedule.y jcuadmissions November 20,] [2014 American college in Rome American university in Rome study abroad in Italy.] [Undergraduate students hear a lot of conflicting advice when it comes to plotting their course following graduation.\n",
      "\n",
      "][passage 3:There are pros and cons to each decision.] [Graduate school is expensive and time consuming,] [yet it allows you to further your education in a specific field.] [It is a tough decision that I will have to make next December,] [and some students will have to make as soon as this summer.urthermore,] [it will give you an opportunity to expand your education,] [and it will give you more knowledge about your field of study.] [When you come out of graduate school you will be more educated than a student who went straight into the career world.] [I also recommend holding a part time job while in graduate school.\n",
      "\n",
      "][In case the passages do not contain the necessary information to answer the question,] [please reply with: \"Unable to answer based on given passages.][\"\n",
      "][output:]\n",
      "\n",
      "\n",
      "\n",
      "\n",
      "[Briefly answer the following question:\n",
      "][how do automotive technicians get paid\n",
      "][Bear in mind that your response should be strictly based on the following three passages:\n",
      "][passage 1:In short,] [whether mechanics and technicians are entitled to overtime wages depends on (a) where they work (auto dealer or repair shop),] [(][b) how they are paid (commission or not),] [(c) how much they make (regular hourly rate and commissions),] [and] [(d) the state in which they work.d 1554,] [finding that certain automotive mechanics and technicians paid on a flat-rate or flag-rate are entitled to overtime under the FLSA.\n",
      "\n",
      "][passage 2:Automotive technicians in Alaska have the highest average pay in regard to geography,] [at about $23.70 per hour or $49,400 per year.] [Techs in Connecticut,] [Maryland][,] [Massachusetts and Washington D.C. average $20.50 to $21.50 per hour.otential.] [A small number of automotive technicians work in aerospace products and parts manufacturing,] [which is the highest-paying opportunity for these workers,] [indicates the BLS.] [Automotive techs in this industry earn about $32 per hour or $66,300 per year on average.\n",
      "\n",
      "][passage 3:104 months ago.] [The amount of pay from company to company does not vary too much,] [but you do have a wide variety of compensation methods.] [There are various combinations of hourly and commission pay rates,] [which depending on what type of work you specialize in can vary your bottom line considerably.04 months ago.] [The amount of pay from company to company does not vary too much,] [but you do have a wide variety of compensation methods.] [There are various combinations of hourly and commission pay rates,] [which depending on what type of work you specialize in can vary your bottom line considerably.\n",
      "\n",
      "][In case the passages do not contain the necessary information to answer the question,] [please reply with: \"Unable to answer based on given passages.][\"\n",
      "][output:]\n",
      "\n",
      "\n",
      "\n",
      "\n",
      "[Briefly answer the following question:\n",
      "][how to plough a field\n",
      "][Bear in mind that your response should be strictly based on the following three passages:\n",
      "][passage 1:I have an MF 245,] [a small 3 point plow,] [a disk harrow,] [and] [a cultivator.] [I have a 30 acre farm in WV,] [and want to plow and plant a wildflower meadow.] [The field in mind used to grow crops many years ago,] [and other fields on my place mainly grew hay.urn around at the end and plow back up the field with the first bottom completely over lapping so that the middle hill is higher than the rest again as straight as you can.][When you get to the top again line up the wheel in the ditch(furrow)] [so that the first bottom is covering up the furrow.\n",
      "\n",
      "][passage 2:Tractor field plowing.] [Find the center of the field in the front center and back,] [mark off the center with stakes or sticks if you want to just run them over.][Eye up the last stake with the first two just to give yourself a straight line.] [Line up the tractor on the stakes and plow as straight as you can.ind the center of the field in the front center and back,] [mark off the center with stakes or sticks if you want to just run them over.] [Eye up the last stake with the first two just to give yourself a straight line.\n",
      "\n",
      "][passage 3:The answer to your question depends on the size and shape of your field,] [and the size of your plow.] [You have a myriad of answers,] [and some are thoughtful,] [some make no sense to other than the sender,] [per his acreage.] [google...Operation,] [Care,] [and] [Repair of Farm Machinery,] [by John Deere.]['m new to farming (no family background in it,] [I'm just learning as I go)] [so I don't really know how one plows a field with a regular plow (not a reversible/rollover type).] [I bought a large tractor and a 4 furrow plow,] [now I just need to get out there.\n",
      "\n",
      "][In case the passages do not contain the necessary information to answer the question,] [please reply with: \"Unable to answer based on given passages.][\"\n",
      "][output:]\n",
      "\n",
      "\n",
      "\n",
      "\n"
     ]
    }
   ],
   "source": [
    "\n",
    "\n",
    "for i in range(10):\n",
    "    sentence_boundaries = get_sentence_boundaries(prompts[i])\n",
    "    formated_str = insert_brackets(prompts[i], sentence_boundaries)\n",
    "    print(formated_str)\n",
    "    print(\"\\n\\n\\n\")"
   ]
  },
  {
   "cell_type": "code",
   "execution_count": null,
   "metadata": {},
   "outputs": [],
   "source": []
  }
 ],
 "metadata": {
  "kernelspec": {
   "display_name": ".venv",
   "language": "python",
   "name": "python3"
  },
  "language_info": {
   "codemirror_mode": {
    "name": "ipython",
    "version": 3
   },
   "file_extension": ".py",
   "mimetype": "text/x-python",
   "name": "python",
   "nbconvert_exporter": "python",
   "pygments_lexer": "ipython3",
   "version": "3.12.7"
  }
 },
 "nbformat": 4,
 "nbformat_minor": 2
}
