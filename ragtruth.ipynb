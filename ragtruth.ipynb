{
 "cells": [
  {
   "cell_type": "code",
   "execution_count": null,
   "metadata": {},
   "outputs": [],
   "source": [
    "# from dotenv import load_dotenv\n",
    "\n",
    "\n",
    "# load_dotenv()"
   ]
  },
  {
   "cell_type": "code",
   "execution_count": null,
   "metadata": {},
   "outputs": [],
   "source": []
  },
  {
   "cell_type": "code",
   "execution_count": 2,
   "metadata": {},
   "outputs": [],
   "source": [
    "import json\n",
    "\n",
    "source_json_path = \"/Users/oganes/citations/RAGTruth-main/dataset/source_info.jsonl\"\n",
    "\n",
    "source_info_data = []\n",
    "with open(source_json_path, 'r') as json_file:\n",
    "    for json_str in json_file:\n",
    "        cur_data = json.loads(json_str)\n",
    "        source_info_data.append(cur_data)\n",
    "\n",
    "\n",
    "response_json_path = \"/Users/oganes/citations/RAGTruth-main/dataset/response.jsonl\"\n",
    "\n",
    "response_data = []\n",
    "with open(response_json_path, 'r') as json_file:\n",
    "    for json_str in json_file:\n",
    "        cur_data = json.loads(json_str)\n",
    "        response_data.append(cur_data)"
   ]
  },
  {
   "cell_type": "code",
   "execution_count": 10,
   "metadata": {},
   "outputs": [
    {
     "data": {
      "text/plain": [
       "dict_keys(['source_id', 'task_type', 'source', 'source_info', 'prompt'])"
      ]
     },
     "execution_count": 10,
     "metadata": {},
     "output_type": "execute_result"
    }
   ],
   "source": [
    "source_info_data[0].keys()"
   ]
  },
  {
   "cell_type": "code",
   "execution_count": 3,
   "metadata": {},
   "outputs": [
    {
     "data": {
      "text/plain": [
       "989"
      ]
     },
     "execution_count": 3,
     "metadata": {},
     "output_type": "execute_result"
    }
   ],
   "source": [
    "marco_samples = [sample for sample in source_info_data if sample['source'] == 'MARCO']\n",
    "len(marco_samples)"
   ]
  },
  {
   "cell_type": "code",
   "execution_count": 4,
   "metadata": {},
   "outputs": [
    {
     "data": {
      "text/plain": [
       "{'source_id': '14293',\n",
       " 'task_type': 'QA',\n",
       " 'source': 'MARCO',\n",
       " 'source_info': {'question': 'tips how to conserve water',\n",
       "  'passages': 'passage 1:1 Take shorter showers. 2  Replace you showerhead with an ultra-low-flow version. 3  Some units are available that allow you to cut off the flow without adjusting the water temperature knobs. 4  Use the minimum amount of water needed for a bath by closing the drain first and filling the tub only 1/3 full.\\n\\npassage 2:Here are 20 water-saving tips to get you going…. 1. Shower Bucket. Instead of letting the water pour down the drain, stick a bucket under the faucet while you wait for your shower water to heat up. You can use the water for flushing the toilet or watering your plants. 2. Turn off the tap while brushing your teeth. Water comes out of the average faucet at 2.5 gallons per minute. Don’t let all that water go down the drain while you brush! Turn off the faucet after you wet your brush, and leave it off until it’s time to rinse. 3. Turn off the tap while washing your hands.\\n\\npassage 3:Water lawns in the early morning or later evening in 20 minute intervals. Use a broom instead of your hose to remove debris from your driveway or sidewalk. Bathe your pets outdoors in areas that need water. Install a shut-off nozzle on your water hose; a garden hose left running can waste up to 20 litres per minute. Direct downspouts towards shrubs and trees in your garden.\\n\\n'},\n",
       " 'prompt': 'Briefly answer the following question:\\ntips how to conserve water\\nBear in mind that your response should be strictly based on the following three passages:\\npassage 1:1 Take shorter showers. 2  Replace you showerhead with an ultra-low-flow version. 3  Some units are available that allow you to cut off the flow without adjusting the water temperature knobs. 4  Use the minimum amount of water needed for a bath by closing the drain first and filling the tub only 1/3 full.\\n\\npassage 2:Here are 20 water-saving tips to get you going…. 1. Shower Bucket. Instead of letting the water pour down the drain, stick a bucket under the faucet while you wait for your shower water to heat up. You can use the water for flushing the toilet or watering your plants. 2. Turn off the tap while brushing your teeth. Water comes out of the average faucet at 2.5 gallons per minute. Don’t let all that water go down the drain while you brush! Turn off the faucet after you wet your brush, and leave it off until it’s time to rinse. 3. Turn off the tap while washing your hands.\\n\\npassage 3:Water lawns in the early morning or later evening in 20 minute intervals. Use a broom instead of your hose to remove debris from your driveway or sidewalk. Bathe your pets outdoors in areas that need water. Install a shut-off nozzle on your water hose; a garden hose left running can waste up to 20 litres per minute. Direct downspouts towards shrubs and trees in your garden.\\n\\nIn case the passages do not contain the necessary information to answer the question, please reply with: \"Unable to answer based on given passages.\"\\noutput:'}"
      ]
     },
     "execution_count": 4,
     "metadata": {},
     "output_type": "execute_result"
    }
   ],
   "source": [
    "context_sample = marco_samples[1]\n",
    "context_sample"
   ]
  },
  {
   "cell_type": "code",
   "execution_count": 7,
   "metadata": {},
   "outputs": [
    {
     "name": "stdout",
     "output_type": "stream",
     "text": [
      "Briefly answer the following question:\n",
      "tips how to conserve water\n",
      "Bear in mind that your response should be strictly based on the following three passages:\n",
      "passage 1:1 Take shorter showers. 2  Replace you showerhead with an ultra-low-flow version. 3  Some units are available that allow you to cut off the flow without adjusting the water temperature knobs. 4  Use the minimum amount of water needed for a bath by closing the drain first and filling the tub only 1/3 full.\n",
      "\n",
      "passage 2:Here are 20 water-saving tips to get you going…. 1. Shower Bucket. Instead of letting the water pour down the drain, stick a bucket under the faucet while you wait for your shower water to heat up. You can use the water for flushing the toilet or watering your plants. 2. Turn off the tap while brushing your teeth. Water comes out of the average faucet at 2.5 gallons per minute. Don’t let all that water go down the drain while you brush! Turn off the faucet after you wet your brush, and leave it off until it’s time to rinse. 3. Turn off the tap while washing your hands.\n",
      "\n",
      "passage 3:Water lawns in the early morning or later evening in 20 minute intervals. Use a broom instead of your hose to remove debris from your driveway or sidewalk. Bathe your pets outdoors in areas that need water. Install a shut-off nozzle on your water hose; a garden hose left running can waste up to 20 litres per minute. Direct downspouts towards shrubs and trees in your garden.\n",
      "\n",
      "In case the passages do not contain the necessary information to answer the question, please reply with: \"Unable to answer based on given passages.\"\n",
      "output:\n"
     ]
    },
    {
     "data": {
      "text/plain": [
       "(1605, None)"
      ]
     },
     "execution_count": 7,
     "metadata": {},
     "output_type": "execute_result"
    }
   ],
   "source": [
    "len(context_sample[\"prompt\"]), print(context_sample[\"prompt\"])"
   ]
  },
  {
   "cell_type": "code",
   "execution_count": 13,
   "metadata": {},
   "outputs": [],
   "source": [
    "prompts = [sample[\"prompt\"] for sample in marco_samples]"
   ]
  },
  {
   "cell_type": "code",
   "execution_count": 16,
   "metadata": {},
   "outputs": [
    {
     "data": {
      "image/png": "[encoded data removed]",
      "text/plain": [
       "<Figure size 640x480 with 1 Axes>"
      ]
     },
     "metadata": {},
     "output_type": "display_data"
    }
   ],
   "source": [
    "from matplotlib import pyplot as plt\n",
    "\n",
    "plt.hist([len(prompt) for prompt in prompts], bins=100);"
   ]
  },
  {
   "cell_type": "code",
   "execution_count": null,
   "metadata": {},
   "outputs": [],
   "source": []
  },
  {
   "cell_type": "code",
   "execution_count": null,
   "metadata": {},
   "outputs": [],
   "source": []
  },
  {
   "cell_type": "code",
   "execution_count": 27,
   "metadata": {},
   "outputs": [
    {
     "data": {
      "text/plain": [
       "dict_keys(['id', 'source_id', 'model', 'temperature', 'labels', 'split', 'quality', 'response'])"
      ]
     },
     "execution_count": 27,
     "metadata": {},
     "output_type": "execute_result"
    }
   ],
   "source": [
    "response_data[0].keys()"
   ]
  },
  {
   "cell_type": "code",
   "execution_count": 11,
   "metadata": {},
   "outputs": [
    {
     "name": "stdout",
     "output_type": "stream",
     "text": [
      "Here are some tips for conserving water based on the provided passages:\n",
      "\n",
      "1. Take shorter showers using an ultra-low-flow showerhead. (Passage 1)\n",
      "2. Use the minimum amount of water needed for a bath by filling the tub only 1/3 full and closing the drain before running water. (Passage 1)\n",
      "3. Turn off the tap while brushing your teeth to save 2.5 gallons per minute. (Passage 2)\n",
      "4. Turn off the tap while washing your hands to save water. (Passage 2)\n",
      "5. Water lawns in the early morning or evening using a broom instead of a hose to reduce water waste. (Passage 3)\n",
      "6. Install a shut-off nozzle on your water hose to prevent unnecessary water runoff. (Passage 3)\n",
      "7. Direct downspouts towards shrubs and trees in your garden to make the most of rainwater. (Passage 3)\n",
      "\n",
      "Unable to answer based on given passages. The passages do not provide specific information on how to conserve water in the kitchen or indoor spaces.\n"
     ]
    }
   ],
   "source": [
    "responses = [sample for sample in response_data if sample['source_id'] == context_sample['source_id'] and sample[\"model\"] == \"llama-2-7b-chat\"]\n",
    "print(responses[0][\"response\"])"
   ]
  },
  {
   "cell_type": "code",
   "execution_count": null,
   "metadata": {},
   "outputs": [],
   "source": []
  },
  {
   "cell_type": "code",
   "execution_count": null,
   "metadata": {},
   "outputs": [],
   "source": []
  },
  {
   "cell_type": "code",
   "execution_count": null,
   "metadata": {},
   "outputs": [],
   "source": []
  },
  {
   "cell_type": "code",
   "execution_count": 11,
   "metadata": {},
   "outputs": [
    {
     "name": "stderr",
     "output_type": "stream",
     "text": [
      "Loading checkpoint shards: 100%|██████████| 2/2 [00:15<00:00,  7.93s/it]\n"
     ]
    }
   ],
   "source": [
    "# from transformers import AutoModelForCausalLM, AutoTokenizer\n",
    "\n",
    "# model_name = \"meta-llama/Llama-2-7b-chat-hf\"\n",
    "# model = AutoModelForCausalLM.from_pretrained(model_name)\n",
    "# tokenizer = AutoTokenizer.from_pretrained(model_name)\n",
    "# inputs = tokenizer(prompt, return_tensors=\"pt\")"
   ]
  },
  {
   "cell_type": "code",
   "execution_count": null,
   "metadata": {},
   "outputs": [
    {
     "data": {
      "text/plain": [
       "['Summarize the following news within 116 words:\\nSeventy years ago, Anne Frank died of typhus in a Nazi concentration camp at the age of 15. Just two weeks after her supposed death on March 31, 1945, the Bergen-Belsen concentration camp where she had been imprisoned was liberated -- timing that showed how close the Jewish diarist had been to surviving the Holocaust. But new research released by the Anne Frank House shows that Anne and her older sister, Margot Frank, died at least a month earlier than previously thought. Researchers re-examined archives of the Red Cross, the International Training Service and the Bergen-Belsen Memorial, along with testimonies of survivors. They concluded that Anne and Margot probably did not survive to March 1945 -- contradicting the date of death which had previously been determined by Dutch authorities. In 1944, Anne and seven others hiding in the Amsterdam secret annex were arrested and sent to the  Auschwitz-Birkenau concentration camp. Anne Frank\\'s final entry. That same year, Anne and Margot were separated from their mother and sent away to work as slave labor at the Bergen-Belsen camp in Germany. Days at the camp were filled with terror and dread, witnesses said. The sisters stayed in a section of the overcrowded camp with no lighting, little water and no latrine. They slept on lice-ridden straw and violent storms shredded the tents, according to the researchers. Like the other prisoners, the sisters endured long hours at roll call. Her classmate, Nannette Blitz, recalled seeing Anne there in December 1944: \"She was no more than a skeleton by then. She was wrapped in a blanket; she couldn\\'t bear to wear her clothes anymore because they were crawling with lice.\" Listen to Anne Frank\\'s friends describe her concentration camp experience. As the Russians advanced further, the Bergen-Belsen concentration camp became even more crowded, bringing more disease. A deadly typhus outbreak caused thousands to die each day. Typhus is an infectious disease caused by lice that breaks out in places with poor hygiene. The disease causes high fever, chills and skin eruptions. \"Because of the lice infesting the bedstraw and her clothes, Anne was exposed to the main carrier of epidemic typhus for an extended period,\" museum researchers wrote. They concluded that it\\'s unlikely the sisters survived until March, because witnesses at the camp said the sisters both had symptoms before February 7. \"Most deaths caused by typhus occur around twelve days after the first symptoms appear,\" wrote  authors Erika Prins and Gertjan Broek. The exact dates of death for Anne and Margot remain unclear. Margot died before Anne. \"Anne never gave up hope,\" said Blitz, her friend. \"She was absolutely convinced she would survive.\" Her diary endures as one of the world\\'s most popular books. Read more about Anne Frank\\'s cousin, a keeper of her legacy.\\n\\noutput: 116 words']"
      ]
     },
     "execution_count": 22,
     "metadata": {},
     "output_type": "execute_result"
    }
   ],
   "source": [
    "# outputs = model.generate(**inputs, do_sample=True, temperature=temp, max_new_tokens=1024)\n",
    "# res = tokenizer.batch_decode(outputs, skip_special_tokens=True)\n",
    "# res"
   ]
  },
  {
   "cell_type": "code",
   "execution_count": null,
   "metadata": {},
   "outputs": [
    {
     "name": "stderr",
     "output_type": "stream",
     "text": [
      "Loading checkpoint shards:  50%|█████     | 1/2 [00:19<00:19, 19.66s/it]"
     ]
    }
   ],
   "source": [
    "# from transformers import AutoTokenizer\n",
    "# import transformers\n",
    "# import torch\n",
    "\n",
    "# model = \"meta-llama/Llama-2-7b-chat-hf\"\n",
    "\n",
    "# tokenizer = AutoTokenizer.from_pretrained(model)\n",
    "# pipeline = transformers.pipeline(\n",
    "#     \"text-generation\",\n",
    "#     model=model,\n",
    "# )\n",
    "\n",
    "# sequences = pipeline(\n",
    "#     # 'I liked \"Breaking Bad\" and \"Band of Brothers\". Do you have any recommendations of other shows I might like?\\n',\n",
    "#     prompt,\n",
    "#     do_sample=True,\n",
    "#     temperature=temp,\n",
    "#     num_return_sequences=1,\n",
    "#     eos_token_id=tokenizer.eos_token_id,\n",
    "#     # max_length=200,\n",
    "#     max_new_tokens=1024\n",
    "# )\n",
    "# for seq in sequences:\n",
    "#     print(f\"Result: {seq['generated_text']}\")\n"
   ]
  },
  {
   "cell_type": "code",
   "execution_count": null,
   "metadata": {},
   "outputs": [],
   "source": []
  },
  {
   "cell_type": "code",
   "execution_count": null,
   "metadata": {},
   "outputs": [],
   "source": []
  },
  {
   "cell_type": "code",
   "execution_count": 12,
   "metadata": {},
   "outputs": [
    {
     "name": "stdout",
     "output_type": "stream",
     "text": [
      "Seventy years ago, Anne Frank died of typhus at 15 in a Nazi concentration camp. New research by the Anne Frank House reveals that she and her sister Margot likely died at least a month before previously thought. The researchers re-examined archives and testimonies from survivors, concluding that they probably did not survive until March 1945. Instead, witnesses reported symptoms in February 1945, making it unlikely they survived that long. The exact dates of death remain unclear, but the new findings contradict previous reports. Anne's diary, one of the world's most popular books, endures as a testament to her hope and resilience.\n"
     ]
    }
   ],
   "source": [
    "from ollama import generate\n",
    "\n",
    "response = generate('llama3.2', prompt)\n",
    "print(response['response'])"
   ]
  },
  {
   "cell_type": "code",
   "execution_count": null,
   "metadata": {},
   "outputs": [],
   "source": []
  },
  {
   "cell_type": "code",
   "execution_count": 16,
   "metadata": {},
   "outputs": [
    {
     "name": "stdout",
     "output_type": "stream",
     "text": [
      "Here is a summary of the news within 116 words:\n",
      "\n",
      "New research from the Anne Frank House suggests that Anne Frank and her sister Margot died at least a month earlier than previously thought. Researchers re-examined archives and testimonies of survivors to conclude that the sisters likely died before March 1945, contradicting the previous date of death determined by Dutch authorities. The researchers found evidence that the Bergen-Belsen concentration camp was overcrowded and unsanitary, with poor hygiene leading to a deadly typhus outbreak. Anne's friend, Nannette Blitz, recalled seeing her as \"no more than a skeleton\" in December 1944, with symptoms of typhus appearing before February 7.\n"
     ]
    }
   ],
   "source": [
    "from ollama import chat\n",
    "from ollama import ChatResponse\n",
    "\n",
    "response: ChatResponse = chat(model='llama3.2', messages=[\n",
    "  {\n",
    "    'role': 'user',\n",
    "    'content': prompt,\n",
    "    'temperature': 0\n",
    "  },\n",
    "])\n",
    "print(response['message']['content'])\n",
    "# print(response.message.content)"
   ]
  },
  {
   "cell_type": "code",
   "execution_count": 17,
   "metadata": {},
   "outputs": [
    {
     "name": "stdout",
     "output_type": "stream",
     "text": [
      "Seventy years ago, Anne Frank died in a Nazi concentration camp at 15 due to typhus. New research by the Anne Frank House suggests that she and her sister Margot likely died earlier than previously thought, around February 7, rather than March 31, 1945. Researchers re-examined archives and survivor testimonies, concluding that they probably didn't survive until March. The sisters were held in overcrowded Bergen-Belsen camp with poor conditions, exposed to lice-infested bedstraw and clothing, which likely led to the deadly typhus outbreak. Witnesses said both sisters showed symptoms before February 7, making it unlikely they survived until March. The exact dates of death remain unclear, but their story continues to endure as one of the world's most popular books.\n"
     ]
    }
   ],
   "source": [
    "from ollama import chat\n",
    "from ollama import ChatResponse\n",
    "\n",
    "response: ChatResponse = chat(model='llama3.2', messages=[\n",
    "  {\n",
    "    'role': 'user',\n",
    "    'content': prompt,\n",
    "    'temperature': 2\n",
    "  },\n",
    "])\n",
    "print(response['message']['content'])\n",
    "# print(response.message.content)"
   ]
  },
  {
   "cell_type": "code",
   "execution_count": 18,
   "metadata": {},
   "outputs": [
    {
     "name": "stdout",
     "output_type": "stream",
     "text": [
      "Here is a summary of the news in 116 words:\n",
      "\n",
      "New research released by the Anne Frank House suggests that Anne and her sister Margot died at least a month earlier than previously thought, contradicting their previous date of death. Researchers re-examined archives and testimonies from survivors to conclude that they probably did not survive until March 1945. The sisters were held in overcrowded conditions with poor hygiene, increasing the risk of typhus, which is an infectious disease caused by lice. Witnesses reported that Anne showed symptoms before February 7, suggesting that her death likely occurred around this time. The exact dates remain unclear, but it's likely that Margot died before Anne.\n"
     ]
    }
   ],
   "source": [
    "from ollama import chat\n",
    "from ollama import ChatResponse\n",
    "\n",
    "response: ChatResponse = chat(model='llama3.2', messages=[\n",
    "  {\n",
    "    'role': 'user',\n",
    "    'content': prompt,\n",
    "    'temperature': 1\n",
    "  },\n",
    "])\n",
    "print(response['message']['content'])\n",
    "# print(response.message.content)"
   ]
  },
  {
   "cell_type": "code",
   "execution_count": null,
   "metadata": {},
   "outputs": [],
   "source": []
  }
 ],
 "metadata": {
  "kernelspec": {
   "display_name": ".venv",
   "language": "python",
   "name": "python3"
  },
  "language_info": {
   "codemirror_mode": {
    "name": "ipython",
    "version": 3
   },
   "file_extension": ".py",
   "mimetype": "text/x-python",
   "name": "python",
   "nbconvert_exporter": "python",
   "pygments_lexer": "ipython3",
   "version": "3.12.7"
  }
 },
 "nbformat": 4,
 "nbformat_minor": 2
}
